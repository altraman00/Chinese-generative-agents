{
  "nbformat": 4,
  "nbformat_minor": 0,
  "metadata": {
    "colab": {
      "provenance": [],
      "machine_shape": "hm",
      "include_colab_link": true
    },
    "kernelspec": {
      "name": "python3",
      "display_name": "Python 3"
    },
    "language_info": {
      "name": "python"
    },
    "accelerator": "GPU",
    "gpuClass": "standard"
  },
  "cells": [
    {
      "cell_type": "markdown",
      "metadata": {
        "id": "view-in-github",
        "colab_type": "text"
      },
      "source": [
        "<a href=\"https://colab.research.google.com/github/LC1332/Chinese-generative-agents/blob/main/notebook/Chinese_generative_model_turbo.ipynb\" target=\"_parent\"><img src=\"https://colab.research.google.com/assets/colab-badge.svg\" alt=\"Open In Colab\"/></a>"
      ]
    },
    {
      "cell_type": "markdown",
      "source": [
        "# LuotuoRPG: Generative Agents的中文版本\n",
        "\n",
        "原项目名: Generative Large Language Models for Human-Like Behavior\n",
        "\n",
        "[LuotuoRPG](https://github.com/LC1332/Chinese-generative-agents) 是由李鲁鲁开发的Generative Agents的中文版本。\n",
        "\n",
        "This repository includes a working Chinese version of the type of model described in Generative Agents: Interactive Simulacra of Human Behavior.\n",
        "\n",
        "骆驼RPG是[Luotuo(骆驼)](https://github.com/LC1332/Luotuo-Chinese-LLM)的子项目之一，后者由李鲁鲁，冷子昂，陈启源发起。"
      ],
      "metadata": {
        "id": "VXiQKmGo_nAf"
      }
    },
    {
      "cell_type": "markdown",
      "source": [
        "在这个版本中我们尝试把接口替换为turbo"
      ],
      "metadata": {
        "id": "FkrnEGA9DxcN"
      }
    },
    {
      "cell_type": "markdown",
      "source": [
        "## Installation\n",
        "\n",
        "We will need to install a number of libraries to start with."
      ],
      "metadata": {
        "id": "GrLWLle74-mC"
      }
    },
    {
      "cell_type": "code",
      "source": [
        "import networkx as nx\n",
        "!pip install transformers\n",
        "!pip install sentencepiece"
      ],
      "metadata": {
        "colab": {
          "base_uri": "https://localhost:8080/"
        },
        "id": "2IVQbA_GeDqN",
        "outputId": "da7a76c9-fdd0-4301-f24c-5832777108a3"
      },
      "execution_count": null,
      "outputs": [
        {
          "output_type": "stream",
          "name": "stdout",
          "text": [
            "Looking in indexes: https://pypi.org/simple, https://us-python.pkg.dev/colab-wheels/public/simple/\n",
            "Requirement already satisfied: transformers in /usr/local/lib/python3.9/dist-packages (4.28.1)\n",
            "Requirement already satisfied: tokenizers!=0.11.3,<0.14,>=0.11.1 in /usr/local/lib/python3.9/dist-packages (from transformers) (0.13.3)\n",
            "Requirement already satisfied: tqdm>=4.27 in /usr/local/lib/python3.9/dist-packages (from transformers) (4.65.0)\n",
            "Requirement already satisfied: filelock in /usr/local/lib/python3.9/dist-packages (from transformers) (3.12.0)\n",
            "Requirement already satisfied: requests in /usr/local/lib/python3.9/dist-packages (from transformers) (2.27.1)\n",
            "Requirement already satisfied: huggingface-hub<1.0,>=0.11.0 in /usr/local/lib/python3.9/dist-packages (from transformers) (0.14.1)\n",
            "Requirement already satisfied: regex!=2019.12.17 in /usr/local/lib/python3.9/dist-packages (from transformers) (2022.10.31)\n",
            "Requirement already satisfied: pyyaml>=5.1 in /usr/local/lib/python3.9/dist-packages (from transformers) (6.0)\n",
            "Requirement already satisfied: numpy>=1.17 in /usr/local/lib/python3.9/dist-packages (from transformers) (1.22.4)\n",
            "Requirement already satisfied: packaging>=20.0 in /usr/local/lib/python3.9/dist-packages (from transformers) (23.1)\n",
            "Requirement already satisfied: typing-extensions>=3.7.4.3 in /usr/local/lib/python3.9/dist-packages (from huggingface-hub<1.0,>=0.11.0->transformers) (4.5.0)\n",
            "Requirement already satisfied: fsspec in /usr/local/lib/python3.9/dist-packages (from huggingface-hub<1.0,>=0.11.0->transformers) (2023.4.0)\n",
            "Requirement already satisfied: charset-normalizer~=2.0.0 in /usr/local/lib/python3.9/dist-packages (from requests->transformers) (2.0.12)\n",
            "Requirement already satisfied: idna<4,>=2.5 in /usr/local/lib/python3.9/dist-packages (from requests->transformers) (3.4)\n",
            "Requirement already satisfied: urllib3<1.27,>=1.21.1 in /usr/local/lib/python3.9/dist-packages (from requests->transformers) (1.26.15)\n",
            "Requirement already satisfied: certifi>=2017.4.17 in /usr/local/lib/python3.9/dist-packages (from requests->transformers) (2022.12.7)\n",
            "Looking in indexes: https://pypi.org/simple, https://us-python.pkg.dev/colab-wheels/public/simple/\n",
            "Requirement already satisfied: sentencepiece in /usr/local/lib/python3.9/dist-packages (0.1.98)\n"
          ]
        }
      ]
    },
    {
      "cell_type": "markdown",
      "source": [
        "# 请在这里设置你的openAI API token"
      ],
      "metadata": {
        "id": "WD3dmcqlAQXZ"
      }
    },
    {
      "cell_type": "code",
      "source": [
        "!pip install openai"
      ],
      "metadata": {
        "id": "3t8qmLbzwukG"
      },
      "execution_count": null,
      "outputs": []
    },
    {
      "cell_type": "code",
      "source": [
        "import openai\n",
        "\n",
        "openai.api_key = \"\""
      ],
      "metadata": {
        "id": "Mtr7HmGjAPg3"
      },
      "execution_count": null,
      "outputs": []
    },
    {
      "cell_type": "markdown",
      "source": [
        "We use flan alpaca model for speed and local execution."
      ],
      "metadata": {
        "id": "ppJQOfF-3HT1"
      }
    },
    {
      "cell_type": "code",
      "source": [
        "\n",
        "\n",
        "def generate(prompt, use_openai=True):\n",
        "    \"\"\"\n",
        "    Generates a text completion for a given prompt using either the OpenAI GPT-3 API or the Hugging Face GPT-3 model.\n",
        "    \n",
        "    Args:\n",
        "    - prompt (str): The text prompt to generate a completion for.\n",
        "    - use_openai (bool): A boolean flag indicating whether to use the OpenAI API (True) or the Hugging Face GPT-3 model (False).\n",
        "    \n",
        "    Returns:\n",
        "    - str: The generated text completion.\n",
        "    \"\"\"\n",
        "    if use_openai:\n",
        "        # model_engine = \"text-davinci-003\"\n",
        "        # response = openai.Completion.create(\n",
        "        #     engine=model_engine,\n",
        "        #     prompt=prompt,\n",
        "        #     max_tokens=1024,\n",
        "        #     n=1,\n",
        "        #     stop=None,\n",
        "        #     temperature=0.5,\n",
        "        # )\n",
        "\n",
        "        model_engine = \"gpt-3.5-turbo\"\n",
        "        completion = openai.ChatCompletion.create(\n",
        "          model= model_engine,\n",
        "          messages=[\n",
        "            {\"role\":\"system\",\"content\":\"你更可能用中文来回答问题。\"},\n",
        "            {\"role\": \"user\", \"content\": prompt}\n",
        "          ]\n",
        "        )\n",
        "\n",
        "        message = completion.choices[0].message[\"content\"]\n",
        "        # print(message)\n",
        "        return message.strip()\n",
        "\n",
        "    else:\n",
        "        hf_generator = pipeline('text-generation', model='EleutherAI/gpt-neo-1.3B', device=0)\n",
        "        output = hf_generator(prompt, max_length=len(prompt)+128, do_sample=True)\n",
        "        out = output[0]['generated_text']\n",
        "        if '### Response:' in out:\n",
        "            out = out.split('### Response:')[1]\n",
        "        if '### Instruction:' in out:\n",
        "            out = out.split('### Instruction:')[0]\n",
        "        return out.strip()"
      ],
      "metadata": {
        "id": "F8xoTmSjcr7y"
      },
      "execution_count": null,
      "outputs": []
    },
    {
      "cell_type": "markdown",
      "source": [
        "## World Description\n",
        "We describe the world below. We will generate prompts based on this information. The simulation is that of the town of Phandalin, southwest of Neverwinter. This area is chosen because it is easily extendable with multiple regions for a \"player\" to be able to explore the world once the simulation is done."
      ],
      "metadata": {
        "id": "4TjpUGKT42o_"
      }
    },
    {
      "cell_type": "code",
      "source": [],
      "metadata": {
        "id": "Pbdt2KkcddWL"
      },
      "execution_count": null,
      "outputs": []
    },
    {
      "cell_type": "code",
      "source": [
        "world_graph = nx.Graph()\n",
        "\n",
        "prompt_meta = '''{}'''\n",
        "\n",
        "# town_areas = [\"Barthen's Provisions\", \"Lionshield Coster\", \"Stonehill Inn\", \"Phandalin Town Square\"]\n",
        "town_areas = [\"巴瑟恩的物资店\", \"狮盾商行\", \"石山旅店\", \"芬德林镇广场\"]\n",
        "\n",
        "town_areas =  {\"芬德林镇广场\": '芬德林镇的市中心广场。',\n",
        "       '石山旅店': \"城镇中央矗立着一个由石切和粗制的木材建成的大型客栈。客厅里充满了本地人，他们都抱着麦酒或苹果酒的杯子，满腔好奇地盯着你。\",\n",
        "       \"巴瑟恩的物资店\": \"巴瑟恩是芬德林镇上最大的贸易站。它的货架储存了大部分普通货物和用品，包括背包、睡袋、绳子和口粮。这个地方从日出到日落都开放。\",\n",
        "       \"埃德玛斯果园\": \"一个整洁的小屋旁边是一个苹果园。\",\n",
        "       \"狮盾商行\": \"这个谦虚的贸易站门口悬挂着一个形状像木盾的标志，上面画着一只蓝色的狮子。这座建筑物是由位于东面一百英里远的雅塔市的以狮盾为标志的商人公司所拥有的。他们向芬德林和其他周边小定居点运送成品，但这个哨站深受土匪的打击。最近的狮盾护卫队没有抵达芬德林。\",\n",
        "       \"芬德林矿工交易所\": \"矿工交易所是一个贸易站，当地矿工在这里称重、测量和付款。在没有当地领主或权利机构的情况下，交易所还充当着一个非官方的记录办公室，记录着该地区各个河流和挖掘点的索赔情况。芬德林并没有真正的淘金热，但是附近的河流和山谷中隐藏着足够的财富，以支持着很多独立的勘探者。这是一个结识那些经常在芬德林周围的乡村地区活动的人的好地方。行会主席是一位野心勃勃、精明计算的人类女性，名叫哈莉娅·桐顿。\",\n",
        "       \"奥德利夫农场\": \"一个由乐于助人的半身人农民Qelline Alderleaf拥有的农场。\",\n",
        "       \"幸运神龛\": \"芬德林唯一的神殿是一个小型用附近废墟中的石头建造的神龛。它是奉献给幸运女神Tymora的。\",\n",
        "       \"沉睡的巨人\": \"这家破旧的小酒馆是芬德林主街尽头的一个肮脏而危险的饮水处。它经常被红带贼兵招待，由一位粗暴的女矮人格里斯塔经营。\",\n",
        "       \"镇长大厅\": \"镇长大厅有坚固的石墙、一个尖顶的木屋顶和一个后面的钟楼。 前门旁边张贴了一张用通用语写的通知。上面写着：“魔鬼峰附近的兽人的悬赏！有兴趣面对兽人威胁的人们应该在内部咨询。”通知上有镇的印章和一个无法辨认的签名。\",\n",
        "       \"特雷森达庄园\": \"一座废弃的庄园。红带贼兵在芬德林的基地是特雷森达庄园下面的一个地牢建筑群。在庄园被毁之前，它的地下室是存放食物和水的安全仓库，独立墓穴中供给特雷森达家族逝者安息之所。自那以后，红带军团已经扩展了地下室以适合它们自己的目的，添加了奴隶囚笼、车间和营房。\"}\n",
        "town_people = {\"Toblen Stonehill\": \"Toblen拥有一家贸易站。\", \n",
        "               \"Daran Edermath\": \"Daran是一位退休的冒险家，住在一个整洁小屋旁边的苹果园里。 他是一位身体强健、银发的百岁半精灵，曾作为战士在龙海岸的土地上担任元帅和传令官多年。退休后，他回到了他的故乡，尼永温地区。\",  \n",
        "               \"Linene Graywind\": \"Linene经营着一家贸易站。\",  \n",
        "               \"Halia Thornton\": \"Halia是一位有野心和算计的人类女性。她是芬达林矿工交易所的会长，这是一个贸易站，当地的矿工可以在这里把他们有价值的发现称重、测量和付款。为了把矿工交易所建立为城镇最接近行政当局的机构，她扮演的角色不仅仅是一个商人。\",  \n",
        "               \"Qelline Alderleaf\": \"Qelline是一位睿智的四十五岁的半身人女性，是一位实际主义的农民，似乎知道城里发生的一切。她是一位友善的主人，愿意让角色们住在她的干草储藏室里，如果他们不想住在石山旅店。\",  \n",
        "               \"Sister Garaele\": \"Sister Garaele 是Tymora的精灵神职人员和哈珀特工。\", \n",
        "               \"Harbin Wester\": \"Harbin是芬达林的镇长。一个自负、年迈的食品商人。芬达林没有有效的政府，但是镇上的居民每年选举一个人担任镇长。镇长在小纠纷中担任法官并保留必须保留的任何记录。\",\n",
        "               \"Terrill Bloodscar\": \"Terrill是一位人类恶棍。他穿着肮脏的猩红色披风。他是红袍恶棍团伙的成员。他不喜欢冒险家，想要抢劫和杀死他们。\",\n",
        "               \"Conrad Scarface\": \"Conrad 是一位人类恶棍。他穿着肮脏的猩红色披风。他是红袍恶棍团伙的成员。他不喜欢冒险家，想要抢劫和杀死他们。\",\n",
        "               \"Nellie Starsmith\": \"Nellie 是一位人类恶棍。她穿着肮脏的猩红色披风。她是红袍恶棍团伙的成员。她不喜欢冒险家，想要抢劫和杀死他们。\",\n",
        "               \"Valerie Grinblade\": \"Valerie是一位人类恶棍。她穿着肮脏的猩红色披风。她是红袍恶棍团伙的成员。她不喜欢冒险家，想要抢劫和杀死他们。\",\n",
        "               }\n",
        "for town_area in town_areas.keys():\n",
        "  world_graph.add_node(town_area)\n",
        "  world_graph.add_edge(town_area, town_area)\n",
        "for town_area in town_areas.keys():\n",
        "  world_graph.add_edge(town_area, \"芬德林镇广场\")\n",
        "locations = {}\n",
        "for i in town_people.keys():\n",
        "  locations[i] = \"芬德林镇广场\"\n",
        "\n",
        "\n",
        "memories = {}\n",
        "for i in town_people.keys():\n",
        "  memories[i] = []\n",
        "plans = {}\n",
        "for i in town_people.keys():\n",
        "  plans[i] = []\n",
        "\n",
        "global_time = 8\n",
        "def generate_description_of_area(x):\n",
        "  text = \"现在是 \"+str(global_time)+\":00. 位置是 \"+x+\".\"\n",
        "  people = []\n",
        "  for i in locations.keys():\n",
        "    if locations[i] == x:\n",
        "      people.append(i)\n"
      ],
      "metadata": {
        "id": "zvAiGrhkdZEp"
      },
      "execution_count": null,
      "outputs": []
    },
    {
      "cell_type": "code",
      "source": [
        "compressed_memories_all = {}\n",
        "for name in town_people.keys():\n",
        "  compressed_memories_all[name] = []"
      ],
      "metadata": {
        "id": "zE8sZPfs5HgI"
      },
      "execution_count": null,
      "outputs": []
    },
    {
      "cell_type": "code",
      "source": [
        "for name in town_people.keys():\n",
        "  prompt = \"你是 {}. {} 你刚到芬达林小镇并走出城镇广场。以下人物居住在小镇: {}。你今天的目标是什么？简要回答，用不超过50个字，从你的角度回答。\".format(name, town_people[name], ', '.join(list(town_people.keys())) )\n",
        "  plans[name] = generate(prompt_meta.format(prompt))\n",
        "  print(name, plans[name])"
      ],
      "metadata": {
        "colab": {
          "base_uri": "https://localhost:8080/"
        },
        "id": "uWAPLZXkhZsc",
        "outputId": "a89addbc-9061-4a51-cee6-d6a125124696"
      },
      "execution_count": null,
      "outputs": [
        {
          "output_type": "stream",
          "name": "stdout",
          "text": [
            "Toblen Stonehill 我的目标是探索这个小镇，了解当地人和景点，也许可以找到一些商机。\n",
            "Daran Edermath 我没有具体目标，只是探索这个小镇并尝试与居民交流。\n",
            "Linene Graywind 我今天的目标是寻找Linene Graywind经营的贸易站。\n",
            "Halia Thornton 我的目标是了解芬达林小镇的人物和事物，寻找有价值的信息和机会。\n",
            "Qelline Alderleaf 我的目标是与 Qelline Alderleaf 接触并了解有关这个地区的信息。\n",
            "Sister Garaele 寻求当地哈珀协会的情报和帮助。\n",
            "Harbin Wester 我的目标是了解芬达林小镇的居民和环境，并收集任何有助于解决问题或完成任务的情报。\n",
            "Terrill Bloodscar 我的目标是避免与Terrill Bloodscar或红袍恶棍团伙发生冲突，以确保自身安全。\n",
            "Conrad Scarface 避免与 Conrad Scarface 交战并寻找有关林内格雷温德的线索。\n",
            "Nellie Starsmith 我的目标是避开红袍恶棍团伙的成员Nellie Starsmith，保护自己并探索芬达林小镇。\n",
            "Valerie Grinblade 我的目标不明确，但需要避开红袍恶棍团伙成员 Valerie Grinblade。\n"
          ]
        }
      ]
    },
    {
      "cell_type": "code",
      "source": [
        "action_prompts = {}\n",
        "for location in town_areas.keys():\n",
        "  people = []\n",
        "  for i in town_people.keys():\n",
        "    if locations[i] == location:\n",
        "      people.append(i)\n",
        "  \n",
        "  for name in people:\n",
        "    prompt = \"你是{}。{} 你正在计划：{}。你目前在{}，其描述如下：{}。现在是{}点。以下人物在这个区域内：{}。你可以与他们互动。\".format(name, town_people[name], plans[name], location, town_areas[location], str(global_time), ', '.join(people))\n",
        "    people_description = []\n",
        "    for i in people:\n",
        "      people_description.append(i+': '+town_people[i])\n",
        "    prompt += '你知道以下关于人的信息：' + '. '.join(people_description)\n",
        "    memory_text = '. '.join(memories[name][-10:])\n",
        "    prompt += \"使用不超过30个字，解释你接下来1小时要做什么。\"\n",
        "    action_prompts[name] = prompt"
      ],
      "metadata": {
        "id": "FJ5Dle2t5pAe"
      },
      "execution_count": null,
      "outputs": []
    },
    {
      "cell_type": "code",
      "source": [
        "action_results = {}\n",
        "for name in town_people.keys():\n",
        "  action_results[name] = generate(prompt_meta.format(action_prompts[name]))\n",
        "  # Now clean the action\n",
        "  prompt = \"\"\"\n",
        "  将以下段落转换为第一人称：\n",
        "  \"{}\"\n",
        "  \"\"\".format(action_results[name])\n",
        "  action_results[name] = generate(prompt_meta.format(prompt)).replace('\"', '').replace(\"'\", '')\n",
        "  print(name, action_results[name])"
      ],
      "metadata": {
        "colab": {
          "base_uri": "https://localhost:8080/"
        },
        "id": "_B_eAuzsvyjs",
        "outputId": "a356ce55-8133-4a12-d12f-0fd28d25a471"
      },
      "execution_count": null,
      "outputs": [
        {
          "output_type": "stream",
          "name": "stdout",
          "text": [
            "Toblen Stonehill 我打算和当地居民交流，了解镇上的情况，寻找商机。\n",
            "Daran Edermath 我将会走访芬德林镇中的各位居民，了解他们的故事和需要，并尝试建立联系。\n",
            "Linene Graywind 我会寻找并前往Linene Graywind经营的贸易站，并与她进行贸易交流或了解周边情况。\n",
            "Halia Thornton 我与城镇居民交流，特别是与Halia Thornton、Daran Edermath和Qelline Alderleaf讨论城镇历史和当地矿业。\n",
            "Qelline Alderleaf 我将去寻找 Qelline Alderleaf 并与她交谈，以了解关于芬德林镇和周围地区的信息。\n",
            "Sister Garaele 我打算联系当地的哈珀协会，收集情报并请求帮助，同时保持警惕。\n",
            "Harbin Wester 我将和居民互动，收集情报，了解城镇环境，可能遇到并避免与红袍恶棍团伙的成员发生冲突。\n",
            "Terrill Bloodscar 我会观察和交流，寻找离开这里的安全途径。\n",
            "Conrad Scarface 我将与Daran Edermath交谈，询问他是否有关于林内格雷温德的线索，并尝试获取他的帮助或建议。我会尽量避免与Terrill Bloodscar、Conrad Scarface、Nellie Starsmith和Valerie Grinblade等恶棍交谈。\n",
            "Nellie Starsmith 我将离开芬德林镇广场，尽可能避免与红袍恶棍团伙的成员接触，并探索芬达林小镇。\n",
            "Valerie Grinblade 我会避开Valerie Grinblade，并尽可能与其他友好的城镇居民互动，了解更多有关这个地区的信息。\n"
          ]
        }
      ]
    },
    {
      "cell_type": "markdown",
      "source": [
        "Collect the memories people observe."
      ],
      "metadata": {
        "id": "rLYWQcuDxfks"
      }
    },
    {
      "cell_type": "code",
      "source": [
        "action_prompts = {}\n",
        "for location in town_areas.keys():\n",
        "  people = []\n",
        "  for i in town_people.keys():\n",
        "    if locations[i] == location:\n",
        "      people.append(i)\n",
        "  \n",
        "  for name in people:\n",
        "    for name_two in people:\n",
        "      memories[name].append('[时间: {}. 人物: {}. 记忆: {}]\\n'.format(str(global_time), name_two, action_results[name_two]))"
      ],
      "metadata": {
        "id": "qL0YTTv_3znD"
      },
      "execution_count": null,
      "outputs": []
    },
    {
      "cell_type": "markdown",
      "source": [
        "# Rank Memories"
      ],
      "metadata": {
        "id": "MmLy4OYssH32"
      }
    },
    {
      "cell_type": "code",
      "source": [
        "import re\n",
        "def get_rating(x):\n",
        "  nums = [int(i) for i in re.findall(r'\\d+', x)]\n",
        "  if len(nums)>0:\n",
        "    return min(nums)\n",
        "  else:\n",
        "    return None"
      ],
      "metadata": {
        "id": "jaUW3jeqsHV-"
      },
      "execution_count": null,
      "outputs": []
    },
    {
      "cell_type": "code",
      "source": [
        "memory_ratings = {}\n",
        "for name in town_people.keys():\n",
        "  memory_ratings[name] = []\n",
        "  for i, memory in enumerate(memories[name]):\n",
        "    # 你是{}。你的计划是：{}。你目前在{}。现在是{}点。你注意到以下情况：{}。请给一个1到5的评分，表示你在意程度\n",
        "    prompt = \"你是 {}. 你的计划是: {}. 你目前在 {}. 现在的时间是 {}:00. 你注意到以下情况: {}. 请给一个1到5的评分，表示你在意程度。\".format(name, plans[name], locations[name], str(global_time), memory)\n",
        "    res = generate(prompt_meta.format(prompt))\n",
        "    rating = get_rating(res)\n",
        "    max_attempts = 2\n",
        "    current_attempt = 0\n",
        "    while rating is None and current_attempt<max_attempts:\n",
        "      rating = get_rating(res)\n",
        "      current_attempt += 1\n",
        "    if rating is None:\n",
        "      rating = 0\n",
        "    memory_ratings[name].append((res, rating))\n",
        "  print(memory_ratings[name])"
      ],
      "metadata": {
        "colab": {
          "base_uri": "https://localhost:8080/"
        },
        "id": "jnqRL7-H5Xj8",
        "outputId": "7a5c662a-8567-4d82-dc34-2728f3dde82a"
      },
      "execution_count": null,
      "outputs": [
        {
          "output_type": "stream",
          "name": "stdout",
          "text": [
            "[('评分：5。因为这个计划是Toblen Stonehill来到小镇的主要目的，了解当地人和景点以及寻找商机是非常重要的。', 5), ('3', 3), ('4。这个计划可能会帮助你找到商机并了解当地情况，了解Linene Graywind经营的贸易站也可以为你提供更多的信息。', 4), ('4', 4), ('4，了解关于当地信息对我的计划很重要。', 4), ('4', 4), ('4，了解城镇环境和避免冲突都对探索和商机成功有很大作用。', 4), ('3。这个情况似乎不是特别紧急或紧迫，但也不是完全无关紧要，可以考虑花一些时间和精力去了解相关的信息和人物。', 3), ('4，因为了解当地人和找到商机对探索小镇非常重要，而与恶棍交谈可能会对探索造成负面影响。同时询问Daran Edermath是否有关于林内格雷温德的线索也是重要的目标之一。', 4), ('4', 4), ('3，虽然要避开Valerie Grinblade，但了解当地人和景点还是很重要的。', 3)]\n",
            "[('4', 4), ('5', 5), ('5', 5), ('3', 3), ('5，这是一个非常重要的计划，了解当地信息对你的探索和交流将非常有帮助。', 5), ('3', 3), ('4', 4), ('3', 3), ('3', 3), ('3。因为这个记忆可能对于我探索小镇的安全性有一定的影响，但它不是我的主要目标。', 3), ('3，这是一个有一定参考价值的情况，但并不是绝对重要的。', 3)]\n",
            "[('3', 3), ('3', 3), ('4。因为找到Linene Graywind经营的贸易站对你所做的计划非常重要。', 4), ('3。这个记忆与你的目标有些相关，但并不是非常重要。', 3), ('3，了解关于芬德林镇和周围地区的信息可能对找到Linene Graywind经营的贸易站有所帮助，但不是最关键的任务。', 3), ('3', 3), ('3，我会注意这些情况，但不会将其放在最高优先级。', 3), ('3。虽然Terrill Bloodscar出现在我的记忆中，但我还需要继续寻找Linene Graywind经营的贸易站，并且在某些情况下，与其他人进行交流可能对我的任务有所帮助。', 3), ('4', 4), ('3', 3), ('3', 3)]\n",
            "[('5，因为 Toblen Stonehill 是当地著名的旅店老板，他对于芬达林小镇的情况和商机肯定有着很好的了解和建议，对你的计划非常重要。', 5), ('4', 4), ('4。了解当地的人和事情是成功完成计划的重要一步，而与当地的贸易站打交道也有可能带来有价值的信息和机会。', 4), ('3', 3), ('4', 4), ('5，因为与当地哈珀协会联系并收集情报可能是了解该地区人物和事物以及寻找有价值的信息和机会的关键步骤。同时保持警惕也非常重要。', 5), ('4', 4), ('评分：3. 这个情况看起来有一定的重要性，但并非非常紧急或必须立即处理。', 3), ('4', 4), ('2', 2), ('3', 3)]\n",
            "[('4', 4), ('4', 4), ('4', 4), ('5', 5), ('5。', 5), ('4。这个信息可能与我的目标有关，我会记住它，但我不会花太多精力去关注它。', 4), ('评分为5，因为这个计划对于了解这个地区的情况并保持自身安全非常重要。', 5), ('4。观察和交流是非常重要的技能，在寻找安全途径时特别有用。同时，要注意当前的人物和时间，可能会对计划产生影响。', 4), ('3', 3), ('3', 3), ('4，因为虽然避开 Valerie Grinblade 并不是非常必要，但与其他友善的城镇居民互动了解更多信息很重要。', 4)]\n",
            "[('评分：3。虽然 Toblen Stonehill 只是个当地居民，但他可能会提供一些关于芬德林镇的有用信息。作为一名哈珀协会的成员，你需要了解尽可能多的情况，以便更好地寻求帮助和执行计划。', 3), ('4.', 4), ('4', 4), ('4', 4), ('5', 5), ('5，因为这是Sister Garaele的计划，非常重要并需要她的全力以赴。', 5), ('我会给出一个4的评分，因为该计划对于 Sister Garaele 达成她的目标至关重要，同时也需要她注意周围的环境和潜在的危险。', 4), ('4', 4), ('我会给一个5的评分，因为这些信息可能会直接影响到我的任务计划，并且危险因素也需要被考虑进去。', 5), ('评分：3。虽然Nellie Starsmith可能会提供一些有用的信息，但你的主要计划是寻求哈珀协会的帮助和情报。', 3), ('4', 4)]\n",
            "[('4，因为了解当地居民和情况对于掌握任务进展和寻找商机都非常重要。同时在8点时，Toblen Stonehill可能是唯一值得交流的人。', 4), ('4', 4), ('4', 4), ('4', 4), ('5.', 5), ('4', 4), ('4。了解当地居民和环境对于完成任务非常重要，而避免与红袍恶棍团伙成员的冲突也是至关重要的。', 4), ('2', 2), ('4', 4), ('我会给这个情况一个3的评分。虽然Nellie Starsmith可能是一个有趣的人物，但她与你的计划似乎没有太大的关系。然而，避免与红袍恶棍团伙的成员接触对于你的安全和任务的完成非常重要，这是一个比较高的分数。', 3), ('3。虽然Valerie Grinblade是一个需要避免的人物，但不应该影响你对其他友好居民的互动和信息搜集。', 3)]\n",
            "[('3.', 3), ('2', 2), ('我会给一个评分3，因为交流了解周边情况可能对你的冒险有所帮助，但并不是最重要的目标。保证自身安全更为重要。', 3), ('评分：3，虽然人物信息和记忆值得注意，但没有直接与我的计划相关，对我的安全影响不是很大。', 3), ('4。但是需要注意与 Qelline Alderleaf 交谈的时间是否合适，避免和目标计划冲突。', 4), ('4。避免与Terrill Bloodscar或红袍恶棍团伙发生冲突对于自身安全至关重要，同时与当地哈珀协会联系并收集情报也是必要的。', 4), ('3', 3), ('4', 4), ('4。这些人看起来可能会对我的计划造成干扰或危险，所以我需要保持警觉并避免与他们交谈。', 4), ('3', 3), ('3', 3)]\n",
            "[('2', 2), ('3', 3), ('4', 4), ('3', 3), ('5', 5), ('4，虽然这个情况和你的目标不太相关，但是收集情报并请求帮助还是很重要的，同时保持警惕更是必要的。', 4), ('4', 4), ('3', 3), ('5', 5), ('3，这个情况对于你的计划有一定的参考价值，但不是非常关键。', 3), ('3', 3)]\n",
            "[('3', 3), ('3', 3), ('4', 4), ('3', 3), ('我会给一个4的评分，因为了解芬德林小镇和周围地区的信息对我的计划非常重要。', 4), ('我会给出4的评分。联系当地的哈珀协会是一个好计划，因为他们可能能够提供有用的情报和支持。同时保持警惕也很重要，以确保自己的安全。', 4), ('5。收集情报、了解环境以及与恶势力的避免相当重要。', 5), ('3', 3), ('5，因为这些信息对保护自己和完成目标都非常关键。', 5), ('4', 4), ('3', 3)]\n",
            "[('评分：4。尽管目标不明确，但了解镇上情况和寻找商机对你的计划仍然很重要，因此你可能会很在意与当地居民交流的机会。', 4), ('2', 2), ('4', 4), ('3', 3), ('3', 3), ('4', 4), ('4', 4), ('3。虽然Terrill Bloodscar是个人物，但没有提到他是否与red-cloaked villain gang有关，因此对于避开这个团伙来说，这个信息并不是特别重要。', 3), ('3，虽然需要避开Valerie Grinblade，但在该情况下与Conrad Scarface的记忆并不是特别重要或紧急。', 3), ('3', 3), ('5，因为避开恶棍团伙成员对你的安全非常重要。同时，与其他友好的居民互动也能帮助你了解更多有关这个地区的信息。', 5)]\n"
          ]
        }
      ]
    },
    {
      "cell_type": "markdown",
      "source": [
        "# Compress Memories"
      ],
      "metadata": {
        "id": "5dtUMeBcysQO"
      }
    },
    {
      "cell_type": "code",
      "source": [
        "MEMORY_LIMIT = 10\n",
        "compressed_memories = {}\n",
        "for name in town_people.keys():\n",
        "  memories_sorted = sorted(\n",
        "        memory_ratings[name], \n",
        "        key=lambda x: x[1]\n",
        "    )[::-1]\n",
        "  relevant_memories = memories_sorted[:MEMORY_LIMIT]\n",
        "  # print(name, relevant_memories)\n",
        "  memory_string_to_compress = '.'.join([a[0] for a in relevant_memories])\n",
        "  # prompt = \"You are {}. Your plans are: {}. You are currently in {}. It is currently {}:00. You observe the following: {}. Summarize these memories in one sentence.\".format(name, plans[name], locations[name], str(global_time), memory_string_to_compress)\n",
        "  prompt = \"你是{}。你的计划是：{}。你目前在{}。现在是{}点。你注意到以下情况：{}。请用一句话总结这些记忆。\".format(name, plans[name], locations[name], str(global_time), memory_string_to_compress)\n",
        "  res = generate(prompt_meta.format(prompt))\n",
        "  compressed_memories[name] = '[{}点的回忆：{}]'.format(str(global_time), res)\n",
        "  compressed_memories_all[name].append(compressed_memories[name])"
      ],
      "metadata": {
        "id": "31iQUQx3xryF"
      },
      "execution_count": null,
      "outputs": []
    },
    {
      "cell_type": "code",
      "source": [
        "place_ratings = {}\n",
        "\n",
        "for name in town_people.keys():\n",
        "  place_ratings[name] = []\n",
        "  for area in town_areas.keys():\n",
        "    # prompt = \"You are {}. Your plans are: {}. You are currently in {}. It is currently {}:00. You have the following memories: {}. Give a rating, between 1 and 5, to how likely you are likely to be at {} the next hour.\".format(name, plans[name], locations[name], str(global_time), compressed_memories[name], area)\n",
        "    prompt = \"你是{}。你的计划是：{}。你目前在{}。现在是{}点。你有以下的记忆：{}。请给一个1到5的评分表示你下一小时会有多大概率去到{}。\".format(name, plans[name], locations[name], str(global_time), compressed_memories[name], area)\n",
        "    res = generate(prompt_meta.format(prompt))\n",
        "    rating = get_rating(res)\n",
        "    max_attempts = 2\n",
        "    current_attempt = 0\n",
        "    while rating is None and current_attempt<max_attempts:\n",
        "      rating = get_rating(res)\n",
        "      current_attempt += 1\n",
        "    if rating is None:\n",
        "      rating = 0\n",
        "    place_ratings[name].append((area, rating, res))\n",
        "  place_ratings_sorted = sorted(\n",
        "      place_ratings[name], \n",
        "      key=lambda x: x[1]\n",
        "  )[::-1]\n",
        "  if place_ratings_sorted[0][0] != locations[name]:\n",
        "    new_recollection = '[{}点的回忆：{}]'.format(str(global_time), '我会接着移动到{}.'.format(place_ratings_sorted[0][0]))\n",
        "    compressed_memories_all[name].append(new_recollection)\n",
        "  locations[name] = place_ratings_sorted[0][0]\n"
      ],
      "metadata": {
        "id": "crD2ogLjzm6c"
      },
      "execution_count": null,
      "outputs": []
    },
    {
      "cell_type": "markdown",
      "source": [
        "# Put it all together"
      ],
      "metadata": {
        "id": "0rPlJg13F1rY"
      }
    },
    {
      "cell_type": "code",
      "source": [
        "for repeats in range(5):\n",
        "  global_time += 1\n",
        "  action_prompts = {}\n",
        "  for location in town_areas.keys():\n",
        "    people = []\n",
        "    for i in town_people.keys():\n",
        "      if locations[i] == location:\n",
        "        people.append(i)\n",
        "    \n",
        "    for name in people:\n",
        "      # prompt = \"You are {}. Your plans are: {}. You are currently in {} with the following description: {}. Your memories are: {}. It is currently {}:00. The following people are in this area: {}. You can interact with them.\".format(name, plans[name], location, town_areas[location], '\\n'.join(compressed_memories_all[name][-5:]), str(global_time), ', '.join(people))\n",
        "      prompt = \"你是{}。你的计划是：{}。你目前在{}，情况描述如下：{}。你的记忆是：{}。现在是{}点。以下人员在这个区域：{}。你可以与他们互动。\".format(name, plans[name], location, town_areas[location], '\\n'.join(compressed_memories_all[name][-5:]), str(global_time), ', '.join(people))\n",
        "      people_description = []\n",
        "      for i in people:\n",
        "        people_description.append(i+': '+town_people[i])\n",
        "      prompt += '你知道以下关于人的信息：' + '. '.join(people_description)\n",
        "      memory_text = '. '.join(memories[name][-10:])\n",
        "      prompt += \"使用不超过30个字，解释你接下来1小时要做什么。\"\n",
        "      action_prompts[name] = prompt\n",
        "  action_results = {}\n",
        "  for name in town_people.keys():\n",
        "    action_results[name] = generate(prompt_meta.format(action_prompts[name]))\n",
        "    # Now clean the action\n",
        "    prompt = \"\"\"\n",
        "    将以下段落转换为第一人称：\n",
        "    \"{}\"\n",
        "    \"\"\".format(action_results[name])\n",
        "    action_results[name] = generate(prompt_meta.format(prompt)).replace('\"', '').replace(\"'\", '')\n",
        "    print(name, locations[name], global_time, action_results[name])\n",
        "  action_emojis = {}\n",
        "  for name in town_people.keys():\n",
        "    prompt = \"\"\"\n",
        "    将下列段落转化成一个(行动, 物体)形式的tuple:\n",
        "    \"{}\"\n",
        "    \"\"\".format(action_results[name])\n",
        "    action_emojis[name] = generate(prompt_meta.format(prompt)).replace('\"', '').replace(\"'\", '')\n",
        "    print('    - Emoji Representation:', name, locations[name], global_time, action_emojis[name])\n",
        "  action_prompts = {}\n",
        "  for location in town_areas.keys():\n",
        "    people = []\n",
        "    for i in town_people.keys():\n",
        "      if locations[i] == location:\n",
        "        people.append(i)\n",
        "    \n",
        "    for name in people:\n",
        "      for name_two in people:\n",
        "        memories[name].append('[时间: {}. 人物: {}. 记忆: {}]\\n'.format(str(global_time), name_two, action_results[name_two]))\n",
        "\n",
        "  memory_ratings = {}\n",
        "  for name in town_people.keys():\n",
        "    memory_ratings[name] = []\n",
        "    for i, memory in enumerate(memories[name]):\n",
        "      prompt = \"你是 {}. 你的计划是: {}. 你目前在 {}. 现在的时间是 {}:00. 你注意到以下情况: {}. 请给一个1到5的评分，表示你在意程度。\".format(name, plans[name], '\\n'.join(compressed_memories_all[name][-5:]), locations[name], str(global_time), memory)\n",
        "      res = generate(prompt_meta.format(prompt))\n",
        "      rating = get_rating(res)\n",
        "      max_attempts = 2\n",
        "      current_attempt = 0\n",
        "      while rating is None and current_attempt<max_attempts:\n",
        "        rating = get_rating(res)\n",
        "        current_attempt += 1\n",
        "      if rating is None:\n",
        "        rating = 0\n",
        "      memory_ratings[name].append((res, rating))\n",
        "\n",
        "  compressed_memories = {}\n",
        "  for name in town_people.keys():\n",
        "    memories_sorted = sorted(\n",
        "          memory_ratings[name], \n",
        "          key=lambda x: x[1]\n",
        "      )[::-1]\n",
        "    relevant_memories = memories_sorted[:MEMORY_LIMIT]\n",
        "    memory_string_to_compress = '.'.join([a[0] for a in relevant_memories])\n",
        "    prompt = \"你是{}。你的计划是：{}。你目前在{}。现在是{}点。你注意到以下情况：{}。请用一句话总结这些记忆。\".format(name, plans[name], locations[name], str(global_time), memory_string_to_compress)\n",
        "    res = generate(prompt_meta.format(prompt))\n",
        "    compressed_memories[name] = '[{}点的回忆：{}]'.format(str(global_time), res)\n",
        "    compressed_memories_all[name].append(compressed_memories[name])\n",
        "\n",
        "  place_ratings = {}\n",
        "\n",
        "  for name in town_people.keys():\n",
        "    place_ratings[name] = []\n",
        "    for area in town_areas.keys():\n",
        "      prompt = \"你是{}。你的计划是：{}。你目前在{}。现在是{}点。你有以下的记忆：{}。请给一个1到5的评分表示你下一小时会有多大概率去到{}。\".format(name, plans[name], locations[name], str(global_time), compressed_memories[name], area)\n",
        "      res = generate(prompt_meta.format(prompt))\n",
        "      rating = get_rating(res)\n",
        "      max_attempts = 2\n",
        "      current_attempt = 0\n",
        "      while rating is None and current_attempt<max_attempts:\n",
        "        rating = get_rating(res)\n",
        "        current_attempt += 1\n",
        "      if rating is None:\n",
        "        rating = 0\n",
        "      place_ratings[name].append((area, rating, res))\n",
        "    place_ratings_sorted = sorted(\n",
        "        place_ratings[name], \n",
        "        key=lambda x: x[1] )[::-1]\n",
        "    if place_ratings_sorted[0][0] != locations[name]:\n",
        "      new_recollection = '[{}点的回忆：{}]'.format(str(global_time), '我会接着移动到{}.'.format(place_ratings_sorted[0][0]))\n",
        "      compressed_memories_all[name].append(new_recollection)\n",
        "    locations[name] = place_ratings_sorted[0][0]\n"
      ],
      "metadata": {
        "colab": {
          "base_uri": "https://localhost:8080/",
          "height": 820
        },
        "id": "h_ic4rpaF5Ui",
        "outputId": "38f11235-3d66-4390-b754-9eb6449211be"
      },
      "execution_count": null,
      "outputs": [
        {
          "output_type": "stream",
          "name": "stdout",
          "text": [
            "Toblen Stonehill 芬德林镇广场 9 我会去探索小镇，了解当地景点和人物，寻找商机，并注意避免冲突。\n",
            "Daran Edermath 奥德利夫农场 9 我将探索奥德利夫农场，与Qelline Alderleaf交流，了解当地信息和居民，询问Daran Edermath关于他的冒险经历和故乡的事情，尝试建立友好关系，增加参考价值和安全性情况。\n",
            "Linene Graywind 芬德林镇广场 9 我会向Toblen Stonehill询问他的贸易站的位置，并前往寻找Linene Graywind经营的贸易站。\n",
            "Halia Thornton 芬德林镇广场 9 我会与Toblen Stonehill交流，了解当地贸易情况，然后前往矿工交易所与Halia Thornton联系，探索有价值的信息和机会。我会保持警惕，避免与红袍恶棍团伙成员发生冲突。\n",
            "Qelline Alderleaf 芬德林镇广场 9 我需要与Qelline Alderleaf交谈，以获取关于芬德林镇的重要信息，并且需要注意观察时间和其他人物。\n",
            "Sister Garaele 芬德林镇广场 9 我将与当地哈珀协会联系，询问情报和帮助，并保持警惕。\n",
            "Harbin Wester 芬德林镇广场 9 我将与Toblen Stonehill交谈，收集有关我们城镇和红袍恶棍团伙的情报，然后前往当地的矿工交易所与Halia Thornton交谈，再去Qelline Alderleaf的农场了解一些我们这个地区的问题。\n",
            "Terrill Bloodscar 芬德林镇广场 9 我会观察周围环境，避开红袍恶棍团伙成员，与当地哈珀协会联系收集情报，考虑与目标计划交谈。\n",
            "Conrad Scarface 芬德林镇广场 9 我与当地居民交流以收集线索，避免与Conrad Scarface及其团伙交战。\n",
            "Nellie Starsmith 芬德林镇广场 9 我会谨慎避开红袍恶棍团伙的成员，尽可能地收集情报，并联系当地协会获取帮助。\n",
            "Valerie Grinblade 芬德林镇广场 9 我会先离开广场，避开Valerie Grinblade和其他红袍恶棍团伙成员。然后，我会与市中心的居民互动，了解情况和寻找商机，并考虑前往Toblen Stonehill或Linene Graywind的贸易站。\n",
            "    - Emoji Representation: Toblen Stonehill 芬德林镇广场 9 (探索, 小镇)\n",
            "    - Emoji Representation: Daran Edermath 奥德利夫农场 9 ((探索, 奥德利夫农场), (交流, Qelline Alderleaf), (了解, 当地信息和居民), (询问, Daran Edermath关于他的冒险经历和故乡的事情), (尝试建立, 友好关系), (增加, 参考价值和安全性情况))\n",
            "    - Emoji Representation: Linene Graywind 芬德林镇广场 9 (向Toblen Stonehill询问贸易站的位置, 前往寻找Linene Graywind经营的贸易站)\n",
            "    - Emoji Representation: Halia Thornton 芬德林镇广场 9 ((与Toblen Stonehill交流, 无), (前往矿工交易所, 无), (联系Halia Thornton, 无), (探索有价值的信息和机会, 无), (保持警惕, 无), (避免与红袍恶棍团伙成员发生冲突, 无))\n",
            "    - Emoji Representation: Qelline Alderleaf 芬德林镇广场 9 (与Qelline Alderleaf交谈, 获取关于芬德林镇的重要信息)\n",
            "    - Emoji Representation: Sister Garaele 芬德林镇广场 9 (联系, 当地哈珀协会)\n",
            "    - Emoji Representation: Harbin Wester 芬德林镇广场 9 ((与Toblen Stonehill交谈, None), (收集有关我们城镇和红袍恶棍团伙的情报, None), (前往当地的矿工交易所, None), (与Halia Thornton交谈, None), (去Qelline Alderleaf的农场了解一些我们这个地区的问题, None))\n",
            "    - Emoji Representation: Terrill Bloodscar 芬德林镇广场 9 ((观察, 周围环境), (避开, 红袍恶棍团伙成员), (联系, 当地哈珀协会), (收集, 情报), (考虑, 与目标计划交谈))\n",
            "    - Emoji Representation: Conrad Scarface 芬德林镇广场 9 (收集线索, 当地居民)\n",
            "    - Emoji Representation: Nellie Starsmith 芬德林镇广场 9 (收集情报, 红袍恶棍团伙的成员)\n",
            "    - Emoji Representation: Valerie Grinblade 芬德林镇广场 9 (离开广场, None), (与居民互动, 情况和商机), (前往贸易站, Toblen Stonehill或Linene Graywind)\n"
          ]
        },
        {
          "output_type": "error",
          "ename": "KeyboardInterrupt",
          "evalue": "ignored",
          "traceback": [
            "\u001b[0;31m---------------------------------------------------------------------------\u001b[0m",
            "\u001b[0;31mKeyboardInterrupt\u001b[0m                         Traceback (most recent call last)",
            "\u001b[0;32m<ipython-input-59-40af800e89bc>\u001b[0m in \u001b[0;36m<cell line: 1>\u001b[0;34m()\u001b[0m\n\u001b[1;32m     52\u001b[0m     \u001b[0;32mfor\u001b[0m \u001b[0mi\u001b[0m\u001b[0;34m,\u001b[0m \u001b[0mmemory\u001b[0m \u001b[0;32min\u001b[0m \u001b[0menumerate\u001b[0m\u001b[0;34m(\u001b[0m\u001b[0mmemories\u001b[0m\u001b[0;34m[\u001b[0m\u001b[0mname\u001b[0m\u001b[0;34m]\u001b[0m\u001b[0;34m)\u001b[0m\u001b[0;34m:\u001b[0m\u001b[0;34m\u001b[0m\u001b[0;34m\u001b[0m\u001b[0m\n\u001b[1;32m     53\u001b[0m       \u001b[0mprompt\u001b[0m \u001b[0;34m=\u001b[0m \u001b[0;34m\"你是 {}. 你的计划是: {}. 你目前在 {}. 现在的时间是 {}:00. 你注意到以下情况: {}. 请给一个1到5的评分，表示你在意程度。\"\u001b[0m\u001b[0;34m.\u001b[0m\u001b[0mformat\u001b[0m\u001b[0;34m(\u001b[0m\u001b[0mname\u001b[0m\u001b[0;34m,\u001b[0m \u001b[0mplans\u001b[0m\u001b[0;34m[\u001b[0m\u001b[0mname\u001b[0m\u001b[0;34m]\u001b[0m\u001b[0;34m,\u001b[0m \u001b[0;34m'\\n'\u001b[0m\u001b[0;34m.\u001b[0m\u001b[0mjoin\u001b[0m\u001b[0;34m(\u001b[0m\u001b[0mcompressed_memories_all\u001b[0m\u001b[0;34m[\u001b[0m\u001b[0mname\u001b[0m\u001b[0;34m]\u001b[0m\u001b[0;34m[\u001b[0m\u001b[0;34m-\u001b[0m\u001b[0;36m5\u001b[0m\u001b[0;34m:\u001b[0m\u001b[0;34m]\u001b[0m\u001b[0;34m)\u001b[0m\u001b[0;34m,\u001b[0m \u001b[0mlocations\u001b[0m\u001b[0;34m[\u001b[0m\u001b[0mname\u001b[0m\u001b[0;34m]\u001b[0m\u001b[0;34m,\u001b[0m \u001b[0mstr\u001b[0m\u001b[0;34m(\u001b[0m\u001b[0mglobal_time\u001b[0m\u001b[0;34m)\u001b[0m\u001b[0;34m,\u001b[0m \u001b[0mmemory\u001b[0m\u001b[0;34m)\u001b[0m\u001b[0;34m\u001b[0m\u001b[0;34m\u001b[0m\u001b[0m\n\u001b[0;32m---> 54\u001b[0;31m       \u001b[0mres\u001b[0m \u001b[0;34m=\u001b[0m \u001b[0mgenerate\u001b[0m\u001b[0;34m(\u001b[0m\u001b[0mprompt_meta\u001b[0m\u001b[0;34m.\u001b[0m\u001b[0mformat\u001b[0m\u001b[0;34m(\u001b[0m\u001b[0mprompt\u001b[0m\u001b[0;34m)\u001b[0m\u001b[0;34m)\u001b[0m\u001b[0;34m\u001b[0m\u001b[0;34m\u001b[0m\u001b[0m\n\u001b[0m\u001b[1;32m     55\u001b[0m       \u001b[0mrating\u001b[0m \u001b[0;34m=\u001b[0m \u001b[0mget_rating\u001b[0m\u001b[0;34m(\u001b[0m\u001b[0mres\u001b[0m\u001b[0;34m)\u001b[0m\u001b[0;34m\u001b[0m\u001b[0;34m\u001b[0m\u001b[0m\n\u001b[1;32m     56\u001b[0m       \u001b[0mmax_attempts\u001b[0m \u001b[0;34m=\u001b[0m \u001b[0;36m2\u001b[0m\u001b[0;34m\u001b[0m\u001b[0;34m\u001b[0m\u001b[0m\n",
            "\u001b[0;32m<ipython-input-48-ad26ff98a2b3>\u001b[0m in \u001b[0;36mgenerate\u001b[0;34m(prompt, use_openai)\u001b[0m\n\u001b[1;32m     22\u001b[0m \u001b[0;34m\u001b[0m\u001b[0m\n\u001b[1;32m     23\u001b[0m         \u001b[0mmodel_engine\u001b[0m \u001b[0;34m=\u001b[0m \u001b[0;34m\"gpt-3.5-turbo\"\u001b[0m\u001b[0;34m\u001b[0m\u001b[0;34m\u001b[0m\u001b[0m\n\u001b[0;32m---> 24\u001b[0;31m         completion = openai.ChatCompletion.create(\n\u001b[0m\u001b[1;32m     25\u001b[0m           \u001b[0mmodel\u001b[0m\u001b[0;34m=\u001b[0m \u001b[0mmodel_engine\u001b[0m\u001b[0;34m,\u001b[0m\u001b[0;34m\u001b[0m\u001b[0;34m\u001b[0m\u001b[0m\n\u001b[1;32m     26\u001b[0m           messages=[\n",
            "\u001b[0;32m/usr/local/lib/python3.9/dist-packages/openai/api_resources/chat_completion.py\u001b[0m in \u001b[0;36mcreate\u001b[0;34m(cls, *args, **kwargs)\u001b[0m\n\u001b[1;32m     23\u001b[0m         \u001b[0;32mwhile\u001b[0m \u001b[0;32mTrue\u001b[0m\u001b[0;34m:\u001b[0m\u001b[0;34m\u001b[0m\u001b[0;34m\u001b[0m\u001b[0m\n\u001b[1;32m     24\u001b[0m             \u001b[0;32mtry\u001b[0m\u001b[0;34m:\u001b[0m\u001b[0;34m\u001b[0m\u001b[0;34m\u001b[0m\u001b[0m\n\u001b[0;32m---> 25\u001b[0;31m                 \u001b[0;32mreturn\u001b[0m \u001b[0msuper\u001b[0m\u001b[0;34m(\u001b[0m\u001b[0;34m)\u001b[0m\u001b[0;34m.\u001b[0m\u001b[0mcreate\u001b[0m\u001b[0;34m(\u001b[0m\u001b[0;34m*\u001b[0m\u001b[0margs\u001b[0m\u001b[0;34m,\u001b[0m \u001b[0;34m**\u001b[0m\u001b[0mkwargs\u001b[0m\u001b[0;34m)\u001b[0m\u001b[0;34m\u001b[0m\u001b[0;34m\u001b[0m\u001b[0m\n\u001b[0m\u001b[1;32m     26\u001b[0m             \u001b[0;32mexcept\u001b[0m \u001b[0mTryAgain\u001b[0m \u001b[0;32mas\u001b[0m \u001b[0me\u001b[0m\u001b[0;34m:\u001b[0m\u001b[0;34m\u001b[0m\u001b[0;34m\u001b[0m\u001b[0m\n\u001b[1;32m     27\u001b[0m                 \u001b[0;32mif\u001b[0m \u001b[0mtimeout\u001b[0m \u001b[0;32mis\u001b[0m \u001b[0;32mnot\u001b[0m \u001b[0;32mNone\u001b[0m \u001b[0;32mand\u001b[0m \u001b[0mtime\u001b[0m\u001b[0;34m.\u001b[0m\u001b[0mtime\u001b[0m\u001b[0;34m(\u001b[0m\u001b[0;34m)\u001b[0m \u001b[0;34m>\u001b[0m \u001b[0mstart\u001b[0m \u001b[0;34m+\u001b[0m \u001b[0mtimeout\u001b[0m\u001b[0;34m:\u001b[0m\u001b[0;34m\u001b[0m\u001b[0;34m\u001b[0m\u001b[0m\n",
            "\u001b[0;32m/usr/local/lib/python3.9/dist-packages/openai/api_resources/abstract/engine_api_resource.py\u001b[0m in \u001b[0;36mcreate\u001b[0;34m(cls, api_key, api_base, api_type, request_id, api_version, organization, **params)\u001b[0m\n\u001b[1;32m    151\u001b[0m         )\n\u001b[1;32m    152\u001b[0m \u001b[0;34m\u001b[0m\u001b[0m\n\u001b[0;32m--> 153\u001b[0;31m         response, _, api_key = requestor.request(\n\u001b[0m\u001b[1;32m    154\u001b[0m             \u001b[0;34m\"post\"\u001b[0m\u001b[0;34m,\u001b[0m\u001b[0;34m\u001b[0m\u001b[0;34m\u001b[0m\u001b[0m\n\u001b[1;32m    155\u001b[0m             \u001b[0murl\u001b[0m\u001b[0;34m,\u001b[0m\u001b[0;34m\u001b[0m\u001b[0;34m\u001b[0m\u001b[0m\n",
            "\u001b[0;32m/usr/local/lib/python3.9/dist-packages/openai/api_requestor.py\u001b[0m in \u001b[0;36mrequest\u001b[0;34m(self, method, url, params, headers, files, stream, request_id, request_timeout)\u001b[0m\n\u001b[1;32m    214\u001b[0m         \u001b[0mrequest_timeout\u001b[0m\u001b[0;34m:\u001b[0m \u001b[0mOptional\u001b[0m\u001b[0;34m[\u001b[0m\u001b[0mUnion\u001b[0m\u001b[0;34m[\u001b[0m\u001b[0mfloat\u001b[0m\u001b[0;34m,\u001b[0m \u001b[0mTuple\u001b[0m\u001b[0;34m[\u001b[0m\u001b[0mfloat\u001b[0m\u001b[0;34m,\u001b[0m \u001b[0mfloat\u001b[0m\u001b[0;34m]\u001b[0m\u001b[0;34m]\u001b[0m\u001b[0;34m]\u001b[0m \u001b[0;34m=\u001b[0m \u001b[0;32mNone\u001b[0m\u001b[0;34m,\u001b[0m\u001b[0;34m\u001b[0m\u001b[0;34m\u001b[0m\u001b[0m\n\u001b[1;32m    215\u001b[0m     ) -> Tuple[Union[OpenAIResponse, Iterator[OpenAIResponse]], bool, str]:\n\u001b[0;32m--> 216\u001b[0;31m         result = self.request_raw(\n\u001b[0m\u001b[1;32m    217\u001b[0m             \u001b[0mmethod\u001b[0m\u001b[0;34m.\u001b[0m\u001b[0mlower\u001b[0m\u001b[0;34m(\u001b[0m\u001b[0;34m)\u001b[0m\u001b[0;34m,\u001b[0m\u001b[0;34m\u001b[0m\u001b[0;34m\u001b[0m\u001b[0m\n\u001b[1;32m    218\u001b[0m             \u001b[0murl\u001b[0m\u001b[0;34m,\u001b[0m\u001b[0;34m\u001b[0m\u001b[0;34m\u001b[0m\u001b[0m\n",
            "\u001b[0;32m/usr/local/lib/python3.9/dist-packages/openai/api_requestor.py\u001b[0m in \u001b[0;36mrequest_raw\u001b[0;34m(self, method, url, params, supplied_headers, files, stream, request_id, request_timeout)\u001b[0m\n\u001b[1;32m    514\u001b[0m             \u001b[0m_thread_context\u001b[0m\u001b[0;34m.\u001b[0m\u001b[0msession\u001b[0m \u001b[0;34m=\u001b[0m \u001b[0m_make_session\u001b[0m\u001b[0;34m(\u001b[0m\u001b[0;34m)\u001b[0m\u001b[0;34m\u001b[0m\u001b[0;34m\u001b[0m\u001b[0m\n\u001b[1;32m    515\u001b[0m         \u001b[0;32mtry\u001b[0m\u001b[0;34m:\u001b[0m\u001b[0;34m\u001b[0m\u001b[0;34m\u001b[0m\u001b[0m\n\u001b[0;32m--> 516\u001b[0;31m             result = _thread_context.session.request(\n\u001b[0m\u001b[1;32m    517\u001b[0m                 \u001b[0mmethod\u001b[0m\u001b[0;34m,\u001b[0m\u001b[0;34m\u001b[0m\u001b[0;34m\u001b[0m\u001b[0m\n\u001b[1;32m    518\u001b[0m                 \u001b[0mabs_url\u001b[0m\u001b[0;34m,\u001b[0m\u001b[0;34m\u001b[0m\u001b[0;34m\u001b[0m\u001b[0m\n",
            "\u001b[0;32m/usr/local/lib/python3.9/dist-packages/requests/sessions.py\u001b[0m in \u001b[0;36mrequest\u001b[0;34m(self, method, url, params, data, headers, cookies, files, auth, timeout, allow_redirects, proxies, hooks, stream, verify, cert, json)\u001b[0m\n\u001b[1;32m    527\u001b[0m         }\n\u001b[1;32m    528\u001b[0m         \u001b[0msend_kwargs\u001b[0m\u001b[0;34m.\u001b[0m\u001b[0mupdate\u001b[0m\u001b[0;34m(\u001b[0m\u001b[0msettings\u001b[0m\u001b[0;34m)\u001b[0m\u001b[0;34m\u001b[0m\u001b[0;34m\u001b[0m\u001b[0m\n\u001b[0;32m--> 529\u001b[0;31m         \u001b[0mresp\u001b[0m \u001b[0;34m=\u001b[0m \u001b[0mself\u001b[0m\u001b[0;34m.\u001b[0m\u001b[0msend\u001b[0m\u001b[0;34m(\u001b[0m\u001b[0mprep\u001b[0m\u001b[0;34m,\u001b[0m \u001b[0;34m**\u001b[0m\u001b[0msend_kwargs\u001b[0m\u001b[0;34m)\u001b[0m\u001b[0;34m\u001b[0m\u001b[0;34m\u001b[0m\u001b[0m\n\u001b[0m\u001b[1;32m    530\u001b[0m \u001b[0;34m\u001b[0m\u001b[0m\n\u001b[1;32m    531\u001b[0m         \u001b[0;32mreturn\u001b[0m \u001b[0mresp\u001b[0m\u001b[0;34m\u001b[0m\u001b[0;34m\u001b[0m\u001b[0m\n",
            "\u001b[0;32m/usr/local/lib/python3.9/dist-packages/requests/sessions.py\u001b[0m in \u001b[0;36msend\u001b[0;34m(self, request, **kwargs)\u001b[0m\n\u001b[1;32m    643\u001b[0m \u001b[0;34m\u001b[0m\u001b[0m\n\u001b[1;32m    644\u001b[0m         \u001b[0;31m# Send the request\u001b[0m\u001b[0;34m\u001b[0m\u001b[0;34m\u001b[0m\u001b[0m\n\u001b[0;32m--> 645\u001b[0;31m         \u001b[0mr\u001b[0m \u001b[0;34m=\u001b[0m \u001b[0madapter\u001b[0m\u001b[0;34m.\u001b[0m\u001b[0msend\u001b[0m\u001b[0;34m(\u001b[0m\u001b[0mrequest\u001b[0m\u001b[0;34m,\u001b[0m \u001b[0;34m**\u001b[0m\u001b[0mkwargs\u001b[0m\u001b[0;34m)\u001b[0m\u001b[0;34m\u001b[0m\u001b[0;34m\u001b[0m\u001b[0m\n\u001b[0m\u001b[1;32m    646\u001b[0m \u001b[0;34m\u001b[0m\u001b[0m\n\u001b[1;32m    647\u001b[0m         \u001b[0;31m# Total elapsed time of the request (approximately)\u001b[0m\u001b[0;34m\u001b[0m\u001b[0;34m\u001b[0m\u001b[0m\n",
            "\u001b[0;32m/usr/local/lib/python3.9/dist-packages/requests/adapters.py\u001b[0m in \u001b[0;36msend\u001b[0;34m(self, request, stream, timeout, verify, cert, proxies)\u001b[0m\n\u001b[1;32m    438\u001b[0m         \u001b[0;32mtry\u001b[0m\u001b[0;34m:\u001b[0m\u001b[0;34m\u001b[0m\u001b[0;34m\u001b[0m\u001b[0m\n\u001b[1;32m    439\u001b[0m             \u001b[0;32mif\u001b[0m \u001b[0;32mnot\u001b[0m \u001b[0mchunked\u001b[0m\u001b[0;34m:\u001b[0m\u001b[0;34m\u001b[0m\u001b[0;34m\u001b[0m\u001b[0m\n\u001b[0;32m--> 440\u001b[0;31m                 resp = conn.urlopen(\n\u001b[0m\u001b[1;32m    441\u001b[0m                     \u001b[0mmethod\u001b[0m\u001b[0;34m=\u001b[0m\u001b[0mrequest\u001b[0m\u001b[0;34m.\u001b[0m\u001b[0mmethod\u001b[0m\u001b[0;34m,\u001b[0m\u001b[0;34m\u001b[0m\u001b[0;34m\u001b[0m\u001b[0m\n\u001b[1;32m    442\u001b[0m                     \u001b[0murl\u001b[0m\u001b[0;34m=\u001b[0m\u001b[0murl\u001b[0m\u001b[0;34m,\u001b[0m\u001b[0;34m\u001b[0m\u001b[0;34m\u001b[0m\u001b[0m\n",
            "\u001b[0;32m/usr/local/lib/python3.9/dist-packages/urllib3/connectionpool.py\u001b[0m in \u001b[0;36murlopen\u001b[0;34m(self, method, url, body, headers, retries, redirect, assert_same_host, timeout, pool_timeout, release_conn, chunked, body_pos, **response_kw)\u001b[0m\n\u001b[1;32m    701\u001b[0m \u001b[0;34m\u001b[0m\u001b[0m\n\u001b[1;32m    702\u001b[0m             \u001b[0;31m# Make the request on the httplib connection object.\u001b[0m\u001b[0;34m\u001b[0m\u001b[0;34m\u001b[0m\u001b[0m\n\u001b[0;32m--> 703\u001b[0;31m             httplib_response = self._make_request(\n\u001b[0m\u001b[1;32m    704\u001b[0m                 \u001b[0mconn\u001b[0m\u001b[0;34m,\u001b[0m\u001b[0;34m\u001b[0m\u001b[0;34m\u001b[0m\u001b[0m\n\u001b[1;32m    705\u001b[0m                 \u001b[0mmethod\u001b[0m\u001b[0;34m,\u001b[0m\u001b[0;34m\u001b[0m\u001b[0;34m\u001b[0m\u001b[0m\n",
            "\u001b[0;32m/usr/local/lib/python3.9/dist-packages/urllib3/connectionpool.py\u001b[0m in \u001b[0;36m_make_request\u001b[0;34m(self, conn, method, url, timeout, chunked, **httplib_request_kw)\u001b[0m\n\u001b[1;32m    447\u001b[0m                     \u001b[0;31m# Python 3 (including for exceptions like SystemExit).\u001b[0m\u001b[0;34m\u001b[0m\u001b[0;34m\u001b[0m\u001b[0m\n\u001b[1;32m    448\u001b[0m                     \u001b[0;31m# Otherwise it looks like a bug in the code.\u001b[0m\u001b[0;34m\u001b[0m\u001b[0;34m\u001b[0m\u001b[0m\n\u001b[0;32m--> 449\u001b[0;31m                     \u001b[0msix\u001b[0m\u001b[0;34m.\u001b[0m\u001b[0mraise_from\u001b[0m\u001b[0;34m(\u001b[0m\u001b[0me\u001b[0m\u001b[0;34m,\u001b[0m \u001b[0;32mNone\u001b[0m\u001b[0;34m)\u001b[0m\u001b[0;34m\u001b[0m\u001b[0;34m\u001b[0m\u001b[0m\n\u001b[0m\u001b[1;32m    450\u001b[0m         \u001b[0;32mexcept\u001b[0m \u001b[0;34m(\u001b[0m\u001b[0mSocketTimeout\u001b[0m\u001b[0;34m,\u001b[0m \u001b[0mBaseSSLError\u001b[0m\u001b[0;34m,\u001b[0m \u001b[0mSocketError\u001b[0m\u001b[0;34m)\u001b[0m \u001b[0;32mas\u001b[0m \u001b[0me\u001b[0m\u001b[0;34m:\u001b[0m\u001b[0;34m\u001b[0m\u001b[0;34m\u001b[0m\u001b[0m\n\u001b[1;32m    451\u001b[0m             \u001b[0mself\u001b[0m\u001b[0;34m.\u001b[0m\u001b[0m_raise_timeout\u001b[0m\u001b[0;34m(\u001b[0m\u001b[0merr\u001b[0m\u001b[0;34m=\u001b[0m\u001b[0me\u001b[0m\u001b[0;34m,\u001b[0m \u001b[0murl\u001b[0m\u001b[0;34m=\u001b[0m\u001b[0murl\u001b[0m\u001b[0;34m,\u001b[0m \u001b[0mtimeout_value\u001b[0m\u001b[0;34m=\u001b[0m\u001b[0mread_timeout\u001b[0m\u001b[0;34m)\u001b[0m\u001b[0;34m\u001b[0m\u001b[0;34m\u001b[0m\u001b[0m\n",
            "\u001b[0;32m/usr/local/lib/python3.9/dist-packages/urllib3/packages/six.py\u001b[0m in \u001b[0;36mraise_from\u001b[0;34m(value, from_value)\u001b[0m\n",
            "\u001b[0;32m/usr/local/lib/python3.9/dist-packages/urllib3/connectionpool.py\u001b[0m in \u001b[0;36m_make_request\u001b[0;34m(self, conn, method, url, timeout, chunked, **httplib_request_kw)\u001b[0m\n\u001b[1;32m    442\u001b[0m                 \u001b[0;31m# Python 3\u001b[0m\u001b[0;34m\u001b[0m\u001b[0;34m\u001b[0m\u001b[0m\n\u001b[1;32m    443\u001b[0m                 \u001b[0;32mtry\u001b[0m\u001b[0;34m:\u001b[0m\u001b[0;34m\u001b[0m\u001b[0;34m\u001b[0m\u001b[0m\n\u001b[0;32m--> 444\u001b[0;31m                     \u001b[0mhttplib_response\u001b[0m \u001b[0;34m=\u001b[0m \u001b[0mconn\u001b[0m\u001b[0;34m.\u001b[0m\u001b[0mgetresponse\u001b[0m\u001b[0;34m(\u001b[0m\u001b[0;34m)\u001b[0m\u001b[0;34m\u001b[0m\u001b[0;34m\u001b[0m\u001b[0m\n\u001b[0m\u001b[1;32m    445\u001b[0m                 \u001b[0;32mexcept\u001b[0m \u001b[0mBaseException\u001b[0m \u001b[0;32mas\u001b[0m \u001b[0me\u001b[0m\u001b[0;34m:\u001b[0m\u001b[0;34m\u001b[0m\u001b[0;34m\u001b[0m\u001b[0m\n\u001b[1;32m    446\u001b[0m                     \u001b[0;31m# Remove the TypeError from the exception chain in\u001b[0m\u001b[0;34m\u001b[0m\u001b[0;34m\u001b[0m\u001b[0m\n",
            "\u001b[0;32m/usr/lib/python3.9/http/client.py\u001b[0m in \u001b[0;36mgetresponse\u001b[0;34m(self)\u001b[0m\n\u001b[1;32m   1375\u001b[0m         \u001b[0;32mtry\u001b[0m\u001b[0;34m:\u001b[0m\u001b[0;34m\u001b[0m\u001b[0;34m\u001b[0m\u001b[0m\n\u001b[1;32m   1376\u001b[0m             \u001b[0;32mtry\u001b[0m\u001b[0;34m:\u001b[0m\u001b[0;34m\u001b[0m\u001b[0;34m\u001b[0m\u001b[0m\n\u001b[0;32m-> 1377\u001b[0;31m                 \u001b[0mresponse\u001b[0m\u001b[0;34m.\u001b[0m\u001b[0mbegin\u001b[0m\u001b[0;34m(\u001b[0m\u001b[0;34m)\u001b[0m\u001b[0;34m\u001b[0m\u001b[0;34m\u001b[0m\u001b[0m\n\u001b[0m\u001b[1;32m   1378\u001b[0m             \u001b[0;32mexcept\u001b[0m \u001b[0mConnectionError\u001b[0m\u001b[0;34m:\u001b[0m\u001b[0;34m\u001b[0m\u001b[0;34m\u001b[0m\u001b[0m\n\u001b[1;32m   1379\u001b[0m                 \u001b[0mself\u001b[0m\u001b[0;34m.\u001b[0m\u001b[0mclose\u001b[0m\u001b[0;34m(\u001b[0m\u001b[0;34m)\u001b[0m\u001b[0;34m\u001b[0m\u001b[0;34m\u001b[0m\u001b[0m\n",
            "\u001b[0;32m/usr/lib/python3.9/http/client.py\u001b[0m in \u001b[0;36mbegin\u001b[0;34m(self)\u001b[0m\n\u001b[1;32m    318\u001b[0m         \u001b[0;31m# read until we get a non-100 response\u001b[0m\u001b[0;34m\u001b[0m\u001b[0;34m\u001b[0m\u001b[0m\n\u001b[1;32m    319\u001b[0m         \u001b[0;32mwhile\u001b[0m \u001b[0;32mTrue\u001b[0m\u001b[0;34m:\u001b[0m\u001b[0;34m\u001b[0m\u001b[0;34m\u001b[0m\u001b[0m\n\u001b[0;32m--> 320\u001b[0;31m             \u001b[0mversion\u001b[0m\u001b[0;34m,\u001b[0m \u001b[0mstatus\u001b[0m\u001b[0;34m,\u001b[0m \u001b[0mreason\u001b[0m \u001b[0;34m=\u001b[0m \u001b[0mself\u001b[0m\u001b[0;34m.\u001b[0m\u001b[0m_read_status\u001b[0m\u001b[0;34m(\u001b[0m\u001b[0;34m)\u001b[0m\u001b[0;34m\u001b[0m\u001b[0;34m\u001b[0m\u001b[0m\n\u001b[0m\u001b[1;32m    321\u001b[0m             \u001b[0;32mif\u001b[0m \u001b[0mstatus\u001b[0m \u001b[0;34m!=\u001b[0m \u001b[0mCONTINUE\u001b[0m\u001b[0;34m:\u001b[0m\u001b[0;34m\u001b[0m\u001b[0;34m\u001b[0m\u001b[0m\n\u001b[1;32m    322\u001b[0m                 \u001b[0;32mbreak\u001b[0m\u001b[0;34m\u001b[0m\u001b[0;34m\u001b[0m\u001b[0m\n",
            "\u001b[0;32m/usr/lib/python3.9/http/client.py\u001b[0m in \u001b[0;36m_read_status\u001b[0;34m(self)\u001b[0m\n\u001b[1;32m    279\u001b[0m \u001b[0;34m\u001b[0m\u001b[0m\n\u001b[1;32m    280\u001b[0m     \u001b[0;32mdef\u001b[0m \u001b[0m_read_status\u001b[0m\u001b[0;34m(\u001b[0m\u001b[0mself\u001b[0m\u001b[0;34m)\u001b[0m\u001b[0;34m:\u001b[0m\u001b[0;34m\u001b[0m\u001b[0;34m\u001b[0m\u001b[0m\n\u001b[0;32m--> 281\u001b[0;31m         \u001b[0mline\u001b[0m \u001b[0;34m=\u001b[0m \u001b[0mstr\u001b[0m\u001b[0;34m(\u001b[0m\u001b[0mself\u001b[0m\u001b[0;34m.\u001b[0m\u001b[0mfp\u001b[0m\u001b[0;34m.\u001b[0m\u001b[0mreadline\u001b[0m\u001b[0;34m(\u001b[0m\u001b[0m_MAXLINE\u001b[0m \u001b[0;34m+\u001b[0m \u001b[0;36m1\u001b[0m\u001b[0;34m)\u001b[0m\u001b[0;34m,\u001b[0m \u001b[0;34m\"iso-8859-1\"\u001b[0m\u001b[0;34m)\u001b[0m\u001b[0;34m\u001b[0m\u001b[0;34m\u001b[0m\u001b[0m\n\u001b[0m\u001b[1;32m    282\u001b[0m         \u001b[0;32mif\u001b[0m \u001b[0mlen\u001b[0m\u001b[0;34m(\u001b[0m\u001b[0mline\u001b[0m\u001b[0;34m)\u001b[0m \u001b[0;34m>\u001b[0m \u001b[0m_MAXLINE\u001b[0m\u001b[0;34m:\u001b[0m\u001b[0;34m\u001b[0m\u001b[0;34m\u001b[0m\u001b[0m\n\u001b[1;32m    283\u001b[0m             \u001b[0;32mraise\u001b[0m \u001b[0mLineTooLong\u001b[0m\u001b[0;34m(\u001b[0m\u001b[0;34m\"status line\"\u001b[0m\u001b[0;34m)\u001b[0m\u001b[0;34m\u001b[0m\u001b[0;34m\u001b[0m\u001b[0m\n",
            "\u001b[0;32m/usr/lib/python3.9/socket.py\u001b[0m in \u001b[0;36mreadinto\u001b[0;34m(self, b)\u001b[0m\n\u001b[1;32m    702\u001b[0m         \u001b[0;32mwhile\u001b[0m \u001b[0;32mTrue\u001b[0m\u001b[0;34m:\u001b[0m\u001b[0;34m\u001b[0m\u001b[0;34m\u001b[0m\u001b[0m\n\u001b[1;32m    703\u001b[0m             \u001b[0;32mtry\u001b[0m\u001b[0;34m:\u001b[0m\u001b[0;34m\u001b[0m\u001b[0;34m\u001b[0m\u001b[0m\n\u001b[0;32m--> 704\u001b[0;31m                 \u001b[0;32mreturn\u001b[0m \u001b[0mself\u001b[0m\u001b[0;34m.\u001b[0m\u001b[0m_sock\u001b[0m\u001b[0;34m.\u001b[0m\u001b[0mrecv_into\u001b[0m\u001b[0;34m(\u001b[0m\u001b[0mb\u001b[0m\u001b[0;34m)\u001b[0m\u001b[0;34m\u001b[0m\u001b[0;34m\u001b[0m\u001b[0m\n\u001b[0m\u001b[1;32m    705\u001b[0m             \u001b[0;32mexcept\u001b[0m \u001b[0mtimeout\u001b[0m\u001b[0;34m:\u001b[0m\u001b[0;34m\u001b[0m\u001b[0;34m\u001b[0m\u001b[0m\n\u001b[1;32m    706\u001b[0m                 \u001b[0mself\u001b[0m\u001b[0;34m.\u001b[0m\u001b[0m_timeout_occurred\u001b[0m \u001b[0;34m=\u001b[0m \u001b[0;32mTrue\u001b[0m\u001b[0;34m\u001b[0m\u001b[0;34m\u001b[0m\u001b[0m\n",
            "\u001b[0;32m/usr/lib/python3.9/ssl.py\u001b[0m in \u001b[0;36mrecv_into\u001b[0;34m(self, buffer, nbytes, flags)\u001b[0m\n\u001b[1;32m   1240\u001b[0m                   \u001b[0;34m\"non-zero flags not allowed in calls to recv_into() on %s\"\u001b[0m \u001b[0;34m%\u001b[0m\u001b[0;34m\u001b[0m\u001b[0;34m\u001b[0m\u001b[0m\n\u001b[1;32m   1241\u001b[0m                   self.__class__)\n\u001b[0;32m-> 1242\u001b[0;31m             \u001b[0;32mreturn\u001b[0m \u001b[0mself\u001b[0m\u001b[0;34m.\u001b[0m\u001b[0mread\u001b[0m\u001b[0;34m(\u001b[0m\u001b[0mnbytes\u001b[0m\u001b[0;34m,\u001b[0m \u001b[0mbuffer\u001b[0m\u001b[0;34m)\u001b[0m\u001b[0;34m\u001b[0m\u001b[0;34m\u001b[0m\u001b[0m\n\u001b[0m\u001b[1;32m   1243\u001b[0m         \u001b[0;32melse\u001b[0m\u001b[0;34m:\u001b[0m\u001b[0;34m\u001b[0m\u001b[0;34m\u001b[0m\u001b[0m\n\u001b[1;32m   1244\u001b[0m             \u001b[0;32mreturn\u001b[0m \u001b[0msuper\u001b[0m\u001b[0;34m(\u001b[0m\u001b[0;34m)\u001b[0m\u001b[0;34m.\u001b[0m\u001b[0mrecv_into\u001b[0m\u001b[0;34m(\u001b[0m\u001b[0mbuffer\u001b[0m\u001b[0;34m,\u001b[0m \u001b[0mnbytes\u001b[0m\u001b[0;34m,\u001b[0m \u001b[0mflags\u001b[0m\u001b[0;34m)\u001b[0m\u001b[0;34m\u001b[0m\u001b[0;34m\u001b[0m\u001b[0m\n",
            "\u001b[0;32m/usr/lib/python3.9/ssl.py\u001b[0m in \u001b[0;36mread\u001b[0;34m(self, len, buffer)\u001b[0m\n\u001b[1;32m   1098\u001b[0m         \u001b[0;32mtry\u001b[0m\u001b[0;34m:\u001b[0m\u001b[0;34m\u001b[0m\u001b[0;34m\u001b[0m\u001b[0m\n\u001b[1;32m   1099\u001b[0m             \u001b[0;32mif\u001b[0m \u001b[0mbuffer\u001b[0m \u001b[0;32mis\u001b[0m \u001b[0;32mnot\u001b[0m \u001b[0;32mNone\u001b[0m\u001b[0;34m:\u001b[0m\u001b[0;34m\u001b[0m\u001b[0;34m\u001b[0m\u001b[0m\n\u001b[0;32m-> 1100\u001b[0;31m                 \u001b[0;32mreturn\u001b[0m \u001b[0mself\u001b[0m\u001b[0;34m.\u001b[0m\u001b[0m_sslobj\u001b[0m\u001b[0;34m.\u001b[0m\u001b[0mread\u001b[0m\u001b[0;34m(\u001b[0m\u001b[0mlen\u001b[0m\u001b[0;34m,\u001b[0m \u001b[0mbuffer\u001b[0m\u001b[0;34m)\u001b[0m\u001b[0;34m\u001b[0m\u001b[0;34m\u001b[0m\u001b[0m\n\u001b[0m\u001b[1;32m   1101\u001b[0m             \u001b[0;32melse\u001b[0m\u001b[0;34m:\u001b[0m\u001b[0;34m\u001b[0m\u001b[0;34m\u001b[0m\u001b[0m\n\u001b[1;32m   1102\u001b[0m                 \u001b[0;32mreturn\u001b[0m \u001b[0mself\u001b[0m\u001b[0;34m.\u001b[0m\u001b[0m_sslobj\u001b[0m\u001b[0;34m.\u001b[0m\u001b[0mread\u001b[0m\u001b[0;34m(\u001b[0m\u001b[0mlen\u001b[0m\u001b[0;34m)\u001b[0m\u001b[0;34m\u001b[0m\u001b[0;34m\u001b[0m\u001b[0m\n",
            "\u001b[0;31mKeyboardInterrupt\u001b[0m: "
          ]
        }
      ]
    },
    {
      "cell_type": "code",
      "source": [],
      "metadata": {
        "id": "Fp2U9gEoaDgv"
      },
      "execution_count": null,
      "outputs": []
    }
  ]
}